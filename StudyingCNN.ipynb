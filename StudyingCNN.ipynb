{
  "cells": [
    {
      "cell_type": "markdown",
      "metadata": {
        "id": "oCWdfO12Lxiq"
      },
      "source": [
        "---\n",
        "## Studying Convolutional Neural Networks \n",
        "Hello! Welcome to my notes on Convolutional Neural Networks. This notebook is based on material available on [Deep Learning A-Z: Hands-On Artificial Neural Networks](https://www.udemy.com/course/deeplearning/?utm_source=adwords&utm_medium=udemyads&utm_campaign=LongTail_la.EN_cc.BR&utm_content=deal4584&utm_term=_._ag_112130202440_._ad_467215026440_._kw__._de_c_._dm__._pl__._ti_dsa-1007766171312_._li_1031562_._pd__._&matchtype=b&gclid=Cj0KCQiAx9mABhD0ARIsAEfpavTqbFhHyVvzjw8I9ezj2OsxiL2cDipfPahalnBmoijpYRfup0p-EqoaArEbEALw_wcB). It is a **fantastic** course!\n",
        "\n",
        "**Our goal is to predict whether a dog or cat is in an image.**\n",
        "\n",
        "*by: Pedro Florencio*\n",
        "\n",
        "---"
      ]
    },
    {
      "cell_type": "markdown",
      "metadata": {
        "id": "R4V7SQ31ML63"
      },
      "source": [
        "#### Importing the libraries"
      ]
    },
    {
      "cell_type": "code",
      "execution_count": 1,
      "metadata": {
        "id": "msOEJ8tuLijm"
      },
      "outputs": [
        {
          "name": "stdout",
          "output_type": "stream",
          "text": [
            "Requirement already satisfied: tensorflow in /home/pedro/.local/lib/python3.9/site-packages (2.8.0)\n",
            "Requirement already satisfied: keras-preprocessing>=1.1.1 in /home/pedro/.local/lib/python3.9/site-packages (from tensorflow) (1.1.2)\n",
            "Requirement already satisfied: grpcio<2.0,>=1.24.3 in /home/pedro/.local/lib/python3.9/site-packages (from tensorflow) (1.44.0)\n",
            "Requirement already satisfied: absl-py>=0.4.0 in /home/pedro/.local/lib/python3.9/site-packages (from tensorflow) (1.0.0)\n",
            "Requirement already satisfied: numpy>=1.20 in /home/pedro/.local/lib/python3.9/site-packages (from tensorflow) (1.22.3)\n",
            "Requirement already satisfied: tensorflow-io-gcs-filesystem>=0.23.1 in /home/pedro/.local/lib/python3.9/site-packages (from tensorflow) (0.25.0)\n",
            "Requirement already satisfied: keras<2.9,>=2.8.0rc0 in /home/pedro/.local/lib/python3.9/site-packages (from tensorflow) (2.8.0)\n",
            "Requirement already satisfied: opt-einsum>=2.3.2 in /home/pedro/.local/lib/python3.9/site-packages (from tensorflow) (3.3.0)\n",
            "Requirement already satisfied: astunparse>=1.6.0 in /home/pedro/.local/lib/python3.9/site-packages (from tensorflow) (1.6.3)\n",
            "Requirement already satisfied: six>=1.12.0 in /usr/lib/python3/dist-packages (from tensorflow) (1.16.0)\n",
            "Requirement already satisfied: termcolor>=1.1.0 in /home/pedro/.local/lib/python3.9/site-packages (from tensorflow) (1.1.0)\n",
            "Requirement already satisfied: libclang>=9.0.1 in /home/pedro/.local/lib/python3.9/site-packages (from tensorflow) (14.0.1)\n",
            "Requirement already satisfied: google-pasta>=0.1.1 in /home/pedro/.local/lib/python3.9/site-packages (from tensorflow) (0.2.0)\n",
            "Requirement already satisfied: h5py>=2.9.0 in /home/pedro/.local/lib/python3.9/site-packages (from tensorflow) (3.6.0)\n",
            "Requirement already satisfied: tf-estimator-nightly==2.8.0.dev2021122109 in /home/pedro/.local/lib/python3.9/site-packages (from tensorflow) (2.8.0.dev2021122109)\n",
            "Requirement already satisfied: gast>=0.2.1 in /home/pedro/.local/lib/python3.9/site-packages (from tensorflow) (0.5.3)\n",
            "Requirement already satisfied: tensorboard<2.9,>=2.8 in /home/pedro/.local/lib/python3.9/site-packages (from tensorflow) (2.8.0)\n",
            "Requirement already satisfied: setuptools in /usr/lib/python3/dist-packages (from tensorflow) (52.0.0)\n",
            "Requirement already satisfied: protobuf>=3.9.2 in /usr/lib/python3/dist-packages (from tensorflow) (3.12.4)\n",
            "Requirement already satisfied: typing-extensions>=3.6.6 in /home/pedro/.local/lib/python3.9/site-packages (from tensorflow) (4.2.0)\n",
            "Requirement already satisfied: wrapt>=1.11.0 in /home/pedro/.local/lib/python3.9/site-packages (from tensorflow) (1.14.0)\n",
            "Requirement already satisfied: flatbuffers>=1.12 in /home/pedro/.local/lib/python3.9/site-packages (from tensorflow) (2.0)\n",
            "Requirement already satisfied: wheel<1.0,>=0.23.0 in /usr/lib/python3/dist-packages (from astunparse>=1.6.0->tensorflow) (0.34.2)\n",
            "Requirement already satisfied: tensorboard-data-server<0.7.0,>=0.6.0 in /home/pedro/.local/lib/python3.9/site-packages (from tensorboard<2.9,>=2.8->tensorflow) (0.6.1)\n",
            "Requirement already satisfied: google-auth<3,>=1.6.3 in /home/pedro/.local/lib/python3.9/site-packages (from tensorboard<2.9,>=2.8->tensorflow) (2.6.6)\n",
            "Requirement already satisfied: requests<3,>=2.21.0 in /usr/lib/python3/dist-packages (from tensorboard<2.9,>=2.8->tensorflow) (2.25.1)\n",
            "Requirement already satisfied: werkzeug>=0.11.15 in /home/pedro/.local/lib/python3.9/site-packages (from tensorboard<2.9,>=2.8->tensorflow) (2.1.1)\n",
            "Requirement already satisfied: tensorboard-plugin-wit>=1.6.0 in /home/pedro/.local/lib/python3.9/site-packages (from tensorboard<2.9,>=2.8->tensorflow) (1.8.1)\n",
            "Requirement already satisfied: google-auth-oauthlib<0.5,>=0.4.1 in /home/pedro/.local/lib/python3.9/site-packages (from tensorboard<2.9,>=2.8->tensorflow) (0.4.6)\n",
            "Requirement already satisfied: markdown>=2.6.8 in /home/pedro/.local/lib/python3.9/site-packages (from tensorboard<2.9,>=2.8->tensorflow) (3.3.6)\n",
            "Requirement already satisfied: rsa<5,>=3.1.4 in /home/pedro/.local/lib/python3.9/site-packages (from google-auth<3,>=1.6.3->tensorboard<2.9,>=2.8->tensorflow) (4.8)\n",
            "Requirement already satisfied: pyasn1-modules>=0.2.1 in /home/pedro/.local/lib/python3.9/site-packages (from google-auth<3,>=1.6.3->tensorboard<2.9,>=2.8->tensorflow) (0.2.8)\n",
            "Requirement already satisfied: cachetools<6.0,>=2.0.0 in /home/pedro/.local/lib/python3.9/site-packages (from google-auth<3,>=1.6.3->tensorboard<2.9,>=2.8->tensorflow) (5.0.0)\n",
            "Requirement already satisfied: requests-oauthlib>=0.7.0 in /home/pedro/.local/lib/python3.9/site-packages (from google-auth-oauthlib<0.5,>=0.4.1->tensorboard<2.9,>=2.8->tensorflow) (1.3.1)\n",
            "Requirement already satisfied: importlib-metadata>=4.4 in /home/pedro/.local/lib/python3.9/site-packages (from markdown>=2.6.8->tensorboard<2.9,>=2.8->tensorflow) (4.11.3)\n",
            "Requirement already satisfied: zipp>=0.5 in /usr/lib/python3/dist-packages (from importlib-metadata>=4.4->markdown>=2.6.8->tensorboard<2.9,>=2.8->tensorflow) (1.0.0)\n",
            "Requirement already satisfied: pyasn1<0.5.0,>=0.4.6 in /home/pedro/.local/lib/python3.9/site-packages (from pyasn1-modules>=0.2.1->google-auth<3,>=1.6.3->tensorboard<2.9,>=2.8->tensorflow) (0.4.8)\n",
            "Requirement already satisfied: oauthlib>=3.0.0 in /usr/lib/python3/dist-packages (from requests-oauthlib>=0.7.0->google-auth-oauthlib<0.5,>=0.4.1->tensorboard<2.9,>=2.8->tensorflow) (3.1.0)\n"
          ]
        },
        {
          "name": "stderr",
          "output_type": "stream",
          "text": [
            "2022-04-26 12:12:37.876157: W tensorflow/stream_executor/platform/default/dso_loader.cc:64] Could not load dynamic library 'libcudart.so.11.0'; dlerror: libcudart.so.11.0: cannot open shared object file: No such file or directory\n",
            "2022-04-26 12:12:37.876197: I tensorflow/stream_executor/cuda/cudart_stub.cc:29] Ignore above cudart dlerror if you do not have a GPU set up on your machine.\n"
          ]
        }
      ],
      "source": [
        "!pip install tensorflow\n",
        "import tensorflow as tf\n",
        "from keras.preprocessing.image import ImageDataGenerator"
      ]
    },
    {
      "cell_type": "code",
      "execution_count": 2,
      "metadata": {
        "colab": {
          "base_uri": "https://localhost:8080/",
          "height": 35
        },
        "id": "yN2XHSteMz3y",
        "outputId": "c459c68f-a271-4e91-c4d1-6a4149481673"
      },
      "outputs": [
        {
          "data": {
            "text/plain": [
              "'2.8.0'"
            ]
          },
          "execution_count": 2,
          "metadata": {},
          "output_type": "execute_result"
        }
      ],
      "source": [
        "tf.__version__"
      ]
    },
    {
      "cell_type": "markdown",
      "metadata": {
        "id": "5LG6nKuqOj36"
      },
      "source": [
        "#### Part 1 - Data Preprocessing"
      ]
    },
    {
      "cell_type": "markdown",
      "metadata": {
        "id": "4htGeOzYOm-O"
      },
      "source": [
        "##### Preprocessing the Training set"
      ]
    },
    {
      "cell_type": "code",
      "execution_count": 3,
      "metadata": {
        "id": "VkzsLrkyM3-2"
      },
      "outputs": [
        {
          "name": "stdout",
          "output_type": "stream",
          "text": [
            "Found 8000 images belonging to 2 classes.\n"
          ]
        }
      ],
      "source": [
        "train_datagen = ImageDataGenerator(\n",
        "        rescale=1./255, # Feature scaling (Normalization 0-255 -> 0-1)\n",
        "        shear_range=0.2,\n",
        "        zoom_range=0.2,\n",
        "        horizontal_flip=True)  # Image transformations to avoid overfitting\n",
        "\n",
        "training_set = train_datagen.flow_from_directory(\n",
        "        'dataset/training_set',\n",
        "        target_size=(64, 64),\n",
        "        batch_size=32,\n",
        "        class_mode='binary')"
      ]
    },
    {
      "cell_type": "markdown",
      "metadata": {
        "id": "WtxKLV-RTvHd"
      },
      "source": [
        "##### Preprocessing the Test set"
      ]
    },
    {
      "cell_type": "code",
      "execution_count": 4,
      "metadata": {
        "id": "H6_bRoulRe-E"
      },
      "outputs": [
        {
          "name": "stdout",
          "output_type": "stream",
          "text": [
            "Found 2000 images belonging to 2 classes.\n"
          ]
        }
      ],
      "source": [
        "test_datagen = ImageDataGenerator(rescale=1./255)\n",
        "test_set = test_datagen.flow_from_directory(\n",
        "        'dataset/test_set',\n",
        "        target_size=(64, 64),\n",
        "        batch_size=32,\n",
        "        class_mode='binary')"
      ]
    },
    {
      "cell_type": "markdown",
      "metadata": {
        "id": "al7vNepyYIWZ"
      },
      "source": [
        "#### Part 2 - Building the CNN"
      ]
    },
    {
      "cell_type": "markdown",
      "metadata": {
        "id": "wlBaYUrRYNHu"
      },
      "source": [
        "##### Initialising the CNN"
      ]
    },
    {
      "cell_type": "code",
      "execution_count": 5,
      "metadata": {
        "id": "ngsIz5E1YSCu"
      },
      "outputs": [
        {
          "name": "stderr",
          "output_type": "stream",
          "text": [
            "2022-04-26 12:12:42.139816: W tensorflow/stream_executor/platform/default/dso_loader.cc:64] Could not load dynamic library 'libcuda.so.1'; dlerror: libcuda.so.1: cannot open shared object file: No such file or directory\n",
            "2022-04-26 12:12:42.139885: W tensorflow/stream_executor/cuda/cuda_driver.cc:269] failed call to cuInit: UNKNOWN ERROR (303)\n",
            "2022-04-26 12:12:42.139928: I tensorflow/stream_executor/cuda/cuda_diagnostics.cc:156] kernel driver does not appear to be running on this host (pedro-300E5M-300E5L): /proc/driver/nvidia/version does not exist\n",
            "2022-04-26 12:12:42.140323: I tensorflow/core/platform/cpu_feature_guard.cc:151] This TensorFlow binary is optimized with oneAPI Deep Neural Network Library (oneDNN) to use the following CPU instructions in performance-critical operations:  AVX2 FMA\n",
            "To enable them in other operations, rebuild TensorFlow with the appropriate compiler flags.\n"
          ]
        }
      ],
      "source": [
        "cnn = tf.keras.models.Sequential()"
      ]
    },
    {
      "cell_type": "markdown",
      "metadata": {
        "id": "ctQDve3bYxYw"
      },
      "source": [
        "##### Step 1 - Convolution"
      ]
    },
    {
      "cell_type": "code",
      "execution_count": 6,
      "metadata": {
        "id": "dhrlxoVMY1Q7"
      },
      "outputs": [],
      "source": [
        "cnn.add(tf.keras.layers.Conv2D(filters=32, kernel_size=3,activation='relu',input_shape=[64,64,3]))"
      ]
    },
    {
      "cell_type": "markdown",
      "metadata": {
        "id": "WlUCKcq4aE8X"
      },
      "source": [
        "##### Step 2 - Pooling"
      ]
    },
    {
      "cell_type": "code",
      "execution_count": 7,
      "metadata": {
        "id": "H_Sc5kfvaTXD"
      },
      "outputs": [],
      "source": [
        "cnn.add(tf.keras.layers.MaxPool2D( pool_size=2,strides=2))"
      ]
    },
    {
      "cell_type": "markdown",
      "metadata": {
        "id": "4BUriyrlbYV1"
      },
      "source": [
        "##### Adding a second convolutional layer"
      ]
    },
    {
      "cell_type": "code",
      "execution_count": 8,
      "metadata": {
        "id": "bDjwPUJQbg0H"
      },
      "outputs": [],
      "source": [
        "cnn.add(tf.keras.layers.Conv2D(filters=32, kernel_size=3,activation='relu'))\n",
        "cnn.add(tf.keras.layers.MaxPool2D( pool_size=2,strides=2))"
      ]
    },
    {
      "cell_type": "markdown",
      "metadata": {
        "id": "0-laIjfvbqYV"
      },
      "source": [
        "##### Step 3 - Flattening"
      ]
    },
    {
      "cell_type": "code",
      "execution_count": 9,
      "metadata": {
        "id": "ykLgHNheb6V_"
      },
      "outputs": [],
      "source": [
        "cnn.add(tf.keras.layers.Flatten())"
      ]
    },
    {
      "cell_type": "markdown",
      "metadata": {
        "id": "yitnQlLecP7w"
      },
      "source": [
        "##### Step 4 - Full Connection"
      ]
    },
    {
      "cell_type": "code",
      "execution_count": 10,
      "metadata": {
        "id": "39IJX0eZcUYU"
      },
      "outputs": [],
      "source": [
        "cnn.add(tf.keras.layers.Dense(units=128,activation='relu'))"
      ]
    },
    {
      "cell_type": "markdown",
      "metadata": {
        "id": "v-BlCc8ZdsR1"
      },
      "source": [
        "##### Step 5 - Output layer"
      ]
    },
    {
      "cell_type": "code",
      "execution_count": 11,
      "metadata": {
        "id": "3-cUB9egdyIT"
      },
      "outputs": [],
      "source": [
        "cnn.add(tf.keras.layers.Dense(units=1,activation='sigmoid'))"
      ]
    },
    {
      "cell_type": "markdown",
      "metadata": {
        "id": "0cegqp6UeDnb"
      },
      "source": [
        "#### Part 3 - Training the CNN"
      ]
    },
    {
      "cell_type": "markdown",
      "metadata": {
        "id": "jz4Qs6VDeo4V"
      },
      "source": [
        "##### Compiling the CNN"
      ]
    },
    {
      "cell_type": "code",
      "execution_count": 12,
      "metadata": {
        "id": "IKyZWhkEeIyy"
      },
      "outputs": [],
      "source": [
        "cnn.compile(optimizer = 'adam', loss='binary_crossentropy',metrics = ['accuracy'])"
      ]
    },
    {
      "cell_type": "markdown",
      "metadata": {
        "id": "rTNZbN02fRFA"
      },
      "source": [
        "##### Training the CNN on the Training set and evaluating it on the test set"
      ]
    },
    {
      "cell_type": "code",
      "execution_count": 13,
      "metadata": {
        "id": "jPNcf9GOfYrX"
      },
      "outputs": [
        {
          "name": "stdout",
          "output_type": "stream",
          "text": [
            "Requirement already satisfied: scipy in /home/pedro/.local/lib/python3.9/site-packages (1.8.0)\n",
            "Requirement already satisfied: numpy<1.25.0,>=1.17.3 in /home/pedro/.local/lib/python3.9/site-packages (from scipy) (1.22.3)\n",
            "Epoch 1/25\n",
            "  1/250 [..............................] - ETA: 17:37 - loss: 0.6882 - accuracy: 0.5625"
          ]
        },
        {
          "name": "stderr",
          "output_type": "stream",
          "text": [
            "2022-04-26 12:13:19.208724: W tensorflow/core/framework/cpu_allocator_impl.cc:82] Allocation of 28096128 exceeds 10% of free system memory.\n"
          ]
        },
        {
          "name": "stdout",
          "output_type": "stream",
          "text": [
            "  2/250 [..............................] - ETA: 54s - loss: 0.8121 - accuracy: 0.4531  "
          ]
        },
        {
          "name": "stderr",
          "output_type": "stream",
          "text": [
            "2022-04-26 12:13:19.503669: W tensorflow/core/framework/cpu_allocator_impl.cc:82] Allocation of 28096128 exceeds 10% of free system memory.\n"
          ]
        },
        {
          "name": "stdout",
          "output_type": "stream",
          "text": [
            "  3/250 [..............................] - ETA: 3:06 - loss: 0.7807 - accuracy: 0.4896"
          ]
        },
        {
          "name": "stderr",
          "output_type": "stream",
          "text": [
            "2022-04-26 12:13:20.829089: W tensorflow/core/framework/cpu_allocator_impl.cc:82] Allocation of 28096128 exceeds 10% of free system memory.\n"
          ]
        },
        {
          "name": "stdout",
          "output_type": "stream",
          "text": [
            "  4/250 [..............................] - ETA: 3:39 - loss: 0.7605 - accuracy: 0.5234"
          ]
        },
        {
          "name": "stderr",
          "output_type": "stream",
          "text": [
            "2022-04-26 12:13:21.975878: W tensorflow/core/framework/cpu_allocator_impl.cc:82] Allocation of 28096128 exceeds 10% of free system memory.\n"
          ]
        },
        {
          "name": "stdout",
          "output_type": "stream",
          "text": [
            "  5/250 [..............................] - ETA: 3:42 - loss: 0.7607 - accuracy: 0.5188"
          ]
        },
        {
          "name": "stderr",
          "output_type": "stream",
          "text": [
            "2022-04-26 12:13:22.940912: W tensorflow/core/framework/cpu_allocator_impl.cc:82] Allocation of 28096128 exceeds 10% of free system memory.\n"
          ]
        },
        {
          "name": "stdout",
          "output_type": "stream",
          "text": [
            "250/250 [==============================] - 245s 966ms/step - loss: 0.6814 - accuracy: 0.5667 - val_loss: 0.6363 - val_accuracy: 0.6355\n",
            "Epoch 2/25\n",
            "250/250 [==============================] - 46s 183ms/step - loss: 0.6203 - accuracy: 0.6499 - val_loss: 0.5737 - val_accuracy: 0.7050\n",
            "Epoch 3/25\n",
            "250/250 [==============================] - 47s 189ms/step - loss: 0.5686 - accuracy: 0.7039 - val_loss: 0.5558 - val_accuracy: 0.7270\n",
            "Epoch 4/25\n",
            "250/250 [==============================] - 45s 178ms/step - loss: 0.5278 - accuracy: 0.7327 - val_loss: 0.5268 - val_accuracy: 0.7425\n",
            "Epoch 5/25\n",
            "250/250 [==============================] - 46s 183ms/step - loss: 0.4919 - accuracy: 0.7596 - val_loss: 0.5518 - val_accuracy: 0.7315\n",
            "Epoch 6/25\n",
            "250/250 [==============================] - 45s 178ms/step - loss: 0.4749 - accuracy: 0.7720 - val_loss: 0.4934 - val_accuracy: 0.7710\n",
            "Epoch 7/25\n",
            "250/250 [==============================] - 44s 177ms/step - loss: 0.4589 - accuracy: 0.7741 - val_loss: 0.4758 - val_accuracy: 0.7855\n",
            "Epoch 8/25\n",
            "250/250 [==============================] - 44s 177ms/step - loss: 0.4415 - accuracy: 0.7926 - val_loss: 0.4558 - val_accuracy: 0.7960\n",
            "Epoch 9/25\n",
            "250/250 [==============================] - 45s 178ms/step - loss: 0.4301 - accuracy: 0.8000 - val_loss: 0.4544 - val_accuracy: 0.7990\n",
            "Epoch 10/25\n",
            "250/250 [==============================] - 44s 176ms/step - loss: 0.4029 - accuracy: 0.8101 - val_loss: 0.4885 - val_accuracy: 0.7790\n",
            "Epoch 11/25\n",
            "250/250 [==============================] - 44s 177ms/step - loss: 0.3990 - accuracy: 0.8144 - val_loss: 0.4566 - val_accuracy: 0.7905\n",
            "Epoch 12/25\n",
            "250/250 [==============================] - 44s 177ms/step - loss: 0.3853 - accuracy: 0.8221 - val_loss: 0.4934 - val_accuracy: 0.7820\n",
            "Epoch 13/25\n",
            "250/250 [==============================] - 45s 179ms/step - loss: 0.3631 - accuracy: 0.8359 - val_loss: 0.4564 - val_accuracy: 0.7955\n",
            "Epoch 14/25\n",
            "250/250 [==============================] - 45s 179ms/step - loss: 0.3461 - accuracy: 0.8470 - val_loss: 0.4918 - val_accuracy: 0.7945\n",
            "Epoch 15/25\n",
            "250/250 [==============================] - 45s 180ms/step - loss: 0.3406 - accuracy: 0.8487 - val_loss: 0.4947 - val_accuracy: 0.7950\n",
            "Epoch 16/25\n",
            "250/250 [==============================] - 45s 180ms/step - loss: 0.3135 - accuracy: 0.8641 - val_loss: 0.4790 - val_accuracy: 0.8005\n",
            "Epoch 17/25\n",
            "250/250 [==============================] - 44s 177ms/step - loss: 0.3058 - accuracy: 0.8662 - val_loss: 0.4686 - val_accuracy: 0.7995\n",
            "Epoch 18/25\n",
            "250/250 [==============================] - 45s 178ms/step - loss: 0.2889 - accuracy: 0.8752 - val_loss: 0.4945 - val_accuracy: 0.8075\n",
            "Epoch 19/25\n",
            "250/250 [==============================] - 45s 178ms/step - loss: 0.2706 - accuracy: 0.8856 - val_loss: 0.5770 - val_accuracy: 0.7910\n",
            "Epoch 20/25\n",
            "250/250 [==============================] - 46s 182ms/step - loss: 0.2535 - accuracy: 0.8938 - val_loss: 0.5363 - val_accuracy: 0.7970\n",
            "Epoch 21/25\n",
            "250/250 [==============================] - 47s 187ms/step - loss: 0.2354 - accuracy: 0.9031 - val_loss: 0.5073 - val_accuracy: 0.8060\n",
            "Epoch 22/25\n",
            "250/250 [==============================] - 46s 182ms/step - loss: 0.2231 - accuracy: 0.9115 - val_loss: 0.5439 - val_accuracy: 0.7970\n",
            "Epoch 23/25\n",
            "250/250 [==============================] - 44s 176ms/step - loss: 0.2098 - accuracy: 0.9179 - val_loss: 0.5431 - val_accuracy: 0.8035\n",
            "Epoch 24/25\n",
            "250/250 [==============================] - 45s 181ms/step - loss: 0.2013 - accuracy: 0.9180 - val_loss: 0.5328 - val_accuracy: 0.8085\n",
            "Epoch 25/25\n",
            "250/250 [==============================] - 48s 193ms/step - loss: 0.1959 - accuracy: 0.9219 - val_loss: 0.6088 - val_accuracy: 0.7985\n"
          ]
        },
        {
          "data": {
            "text/plain": [
              "<keras.callbacks.History at 0x7fb835abf580>"
            ]
          },
          "execution_count": 13,
          "metadata": {},
          "output_type": "execute_result"
        }
      ],
      "source": [
        "!pip install scipy\n",
        "cnn.fit(x = training_set, validation_data = test_set, epochs=25)"
      ]
    },
    {
      "cell_type": "markdown",
      "metadata": {
        "id": "39NpxuGCgPie"
      },
      "source": [
        "#### Part 4 - Make a single prediction"
      ]
    },
    {
      "cell_type": "code",
      "execution_count": 16,
      "metadata": {
        "id": "sLpBPVQjgUT8"
      },
      "outputs": [],
      "source": [
        "import numpy as np\n",
        "from keras.preprocessing import image\n",
        "test_image = image.load_img('dataset/single_prediction/cat_or_dog_1.jpg',target_size=(64,64))\n",
        "test_image = image.img_to_array(test_image)\n",
        "test_image = np.expand_dims(test_image, axis = 0)\n",
        "result = cnn.predict(test_image)\n",
        "training_set.class_indices\n",
        "if result[0][0] > 0.5:\n",
        "  prediction = 'dog'\n",
        "else:\n",
        "  prediction = 'cat'"
      ]
    },
    {
      "cell_type": "code",
      "execution_count": 17,
      "metadata": {
        "id": "ilPemghwUVlk"
      },
      "outputs": [
        {
          "name": "stdout",
          "output_type": "stream",
          "text": [
            "dog\n"
          ]
        }
      ],
      "source": [
        "print(prediction)"
      ]
    }
  ],
  "metadata": {
    "colab": {
      "name": "StudyingCNN.ipynb",
      "provenance": []
    },
    "kernelspec": {
      "display_name": "Python 3",
      "name": "python3"
    },
    "language_info": {
      "codemirror_mode": {
        "name": "ipython",
        "version": 3
      },
      "file_extension": ".py",
      "mimetype": "text/x-python",
      "name": "python",
      "nbconvert_exporter": "python",
      "pygments_lexer": "ipython3",
      "version": "3.9.7"
    }
  },
  "nbformat": 4,
  "nbformat_minor": 0
}
