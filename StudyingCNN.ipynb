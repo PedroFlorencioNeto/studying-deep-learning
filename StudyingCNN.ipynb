{
  "nbformat": 4,
  "nbformat_minor": 0,
  "metadata": {
    "colab": {
      "name": "StudyingCNN.ipynb",
      "provenance": []
    },
    "kernelspec": {
      "name": "python3",
      "display_name": "Python 3"
    }
  },
  "cells": [
    {
      "cell_type": "markdown",
      "metadata": {
        "id": "oCWdfO12Lxiq"
      },
      "source": [
        "---\r\n",
        "## Studying Convolutional Neural Networks \r\n",
        "Hello! Welcome to my notes on Convolutional Neural Networks. This notebook is based on material available on [Deep Learning A-Z: Hands-On Artificial Neural Networks](https://www.udemy.com/course/deeplearning/?utm_source=adwords&utm_medium=udemyads&utm_campaign=LongTail_la.EN_cc.BR&utm_content=deal4584&utm_term=_._ag_112130202440_._ad_467215026440_._kw__._de_c_._dm__._pl__._ti_dsa-1007766171312_._li_1031562_._pd__._&matchtype=b&gclid=Cj0KCQiAx9mABhD0ARIsAEfpavTqbFhHyVvzjw8I9ezj2OsxiL2cDipfPahalnBmoijpYRfup0p-EqoaArEbEALw_wcB). It is a **fantastic** course!\r\n",
        "\r\n",
        "**Our goal is to predict whether a dog or cat is in an image.**\r\n",
        "\r\n",
        "*by: Pedro Florencio*\r\n",
        "\r\n",
        "---"
      ]
    },
    {
      "cell_type": "markdown",
      "metadata": {
        "id": "R4V7SQ31ML63"
      },
      "source": [
        "#### Importing the libraries"
      ]
    },
    {
      "cell_type": "code",
      "metadata": {
        "id": "msOEJ8tuLijm"
      },
      "source": [
        "import tensorflow as tf\r\n",
        "from keras.preprocessing.image import ImageDataGenerator"
      ],
      "execution_count": null,
      "outputs": []
    },
    {
      "cell_type": "code",
      "metadata": {
        "colab": {
          "base_uri": "https://localhost:8080/",
          "height": 35
        },
        "id": "yN2XHSteMz3y",
        "outputId": "c459c68f-a271-4e91-c4d1-6a4149481673"
      },
      "source": [
        "tf.__version__"
      ],
      "execution_count": null,
      "outputs": [
        {
          "output_type": "execute_result",
          "data": {
            "application/vnd.google.colaboratory.intrinsic+json": {
              "type": "string"
            },
            "text/plain": [
              "'2.4.1'"
            ]
          },
          "metadata": {
            "tags": []
          },
          "execution_count": 2
        }
      ]
    },
    {
      "cell_type": "markdown",
      "metadata": {
        "id": "5LG6nKuqOj36"
      },
      "source": [
        "#### Part 1 - Data Preprocessing"
      ]
    },
    {
      "cell_type": "markdown",
      "metadata": {
        "id": "4htGeOzYOm-O"
      },
      "source": [
        "##### Preprocessing the Training set"
      ]
    },
    {
      "cell_type": "code",
      "metadata": {
        "id": "VkzsLrkyM3-2"
      },
      "source": [
        "train_datagen = ImageDataGenerator(\r\n",
        "        rescale=1./255, # Feature scaling (Normalization 0-255 -> 0-1)\r\n",
        "        shear_range=0.2,\r\n",
        "        zoom_range=0.2,\r\n",
        "        horizontal_flip=True)  # Image transformations to avoid overfitting\r\n",
        "\r\n",
        "training_set = train_datagen.flow_from_directory(\r\n",
        "        'dataset/training_set',\r\n",
        "        target_size=(64, 64),\r\n",
        "        batch_size=32,\r\n",
        "        class_mode='binary')"
      ],
      "execution_count": null,
      "outputs": []
    },
    {
      "cell_type": "markdown",
      "metadata": {
        "id": "WtxKLV-RTvHd"
      },
      "source": [
        "##### Preprocessing the Test set"
      ]
    },
    {
      "cell_type": "code",
      "metadata": {
        "id": "H6_bRoulRe-E"
      },
      "source": [
        "test_datagen = ImageDataGenerator(rescale=1./255)\r\n",
        "test_set = test_datagen.flow_from_directory(\r\n",
        "        'dataset/test_set',\r\n",
        "        target_size=(64, 64),\r\n",
        "        batch_size=32,\r\n",
        "        class_mode='binary')"
      ],
      "execution_count": null,
      "outputs": []
    },
    {
      "cell_type": "markdown",
      "metadata": {
        "id": "al7vNepyYIWZ"
      },
      "source": [
        "#### Part 2 - Building the CNN"
      ]
    },
    {
      "cell_type": "markdown",
      "metadata": {
        "id": "wlBaYUrRYNHu"
      },
      "source": [
        "##### Initialising the CNN"
      ]
    },
    {
      "cell_type": "code",
      "metadata": {
        "id": "ngsIz5E1YSCu"
      },
      "source": [
        "cnn = tf.keras.models.Sequential()"
      ],
      "execution_count": null,
      "outputs": []
    },
    {
      "cell_type": "markdown",
      "metadata": {
        "id": "ctQDve3bYxYw"
      },
      "source": [
        "##### Step 1 - Convolution"
      ]
    },
    {
      "cell_type": "code",
      "metadata": {
        "id": "dhrlxoVMY1Q7"
      },
      "source": [
        "cnn.add(tf.keras.layers.Conv2D(filters=32, kernel_size=3,activation='relu',input_shape=[64,64,3]))"
      ],
      "execution_count": null,
      "outputs": []
    },
    {
      "cell_type": "markdown",
      "metadata": {
        "id": "WlUCKcq4aE8X"
      },
      "source": [
        "##### Step 2 - Pooling"
      ]
    },
    {
      "cell_type": "code",
      "metadata": {
        "id": "H_Sc5kfvaTXD"
      },
      "source": [
        "cnn.add(tf.keras.layers.MaxPool2D( pool_size=2,strides=2))"
      ],
      "execution_count": null,
      "outputs": []
    },
    {
      "cell_type": "markdown",
      "metadata": {
        "id": "4BUriyrlbYV1"
      },
      "source": [
        "##### Adding a second convolutional layer"
      ]
    },
    {
      "cell_type": "code",
      "metadata": {
        "id": "bDjwPUJQbg0H"
      },
      "source": [
        "cnn.add(tf.keras.layers.Conv2D(filters=32, kernel_size=3,activation='relu'))\r\n",
        "cnn.add(tf.keras.layers.MaxPool2D( pool_size=2,strides=2))"
      ],
      "execution_count": null,
      "outputs": []
    },
    {
      "cell_type": "markdown",
      "metadata": {
        "id": "0-laIjfvbqYV"
      },
      "source": [
        "##### Step 3 - Flattening"
      ]
    },
    {
      "cell_type": "code",
      "metadata": {
        "id": "ykLgHNheb6V_"
      },
      "source": [
        "cnn.add(tf.keras.layers.Flatten())"
      ],
      "execution_count": null,
      "outputs": []
    },
    {
      "cell_type": "markdown",
      "metadata": {
        "id": "yitnQlLecP7w"
      },
      "source": [
        "##### Step 4 - Full Connection"
      ]
    },
    {
      "cell_type": "code",
      "metadata": {
        "id": "39IJX0eZcUYU"
      },
      "source": [
        "cnn.add(tf.keras.layers.Dense(units=128,activation='relu'))"
      ],
      "execution_count": null,
      "outputs": []
    },
    {
      "cell_type": "markdown",
      "metadata": {
        "id": "v-BlCc8ZdsR1"
      },
      "source": [
        "##### Step 5 - Output layer"
      ]
    },
    {
      "cell_type": "code",
      "metadata": {
        "id": "3-cUB9egdyIT"
      },
      "source": [
        "cnn.add(tf.keras.layers.Dense(units=1,activation='sigmoid'))"
      ],
      "execution_count": null,
      "outputs": []
    },
    {
      "cell_type": "markdown",
      "metadata": {
        "id": "0cegqp6UeDnb"
      },
      "source": [
        "#### Part 3 - Training the CNN"
      ]
    },
    {
      "cell_type": "markdown",
      "metadata": {
        "id": "jz4Qs6VDeo4V"
      },
      "source": [
        "##### Compiling the CNN"
      ]
    },
    {
      "cell_type": "code",
      "metadata": {
        "id": "IKyZWhkEeIyy"
      },
      "source": [
        "cnn.compile(optimizer = 'adam', loss='binary_crossentropy',metrics = ['accuracy'])"
      ],
      "execution_count": null,
      "outputs": []
    },
    {
      "cell_type": "markdown",
      "metadata": {
        "id": "rTNZbN02fRFA"
      },
      "source": [
        "##### Training the CNN on the Training set and evaluating it on the test set"
      ]
    },
    {
      "cell_type": "code",
      "metadata": {
        "id": "jPNcf9GOfYrX"
      },
      "source": [
        "cnn.fit(x = training_set, validation_data = test_set, epochs=25)"
      ],
      "execution_count": null,
      "outputs": []
    },
    {
      "cell_type": "markdown",
      "metadata": {
        "id": "39NpxuGCgPie"
      },
      "source": [
        "#### Part 4 - Make a single prediction"
      ]
    },
    {
      "cell_type": "code",
      "metadata": {
        "id": "sLpBPVQjgUT8"
      },
      "source": [
        "import numpy as np\r\n",
        "from keras.preprocessing import image\r\n",
        "test_image = image.load_img('dataset/single_prediction/cat_or_dog_1.jpg',target_size=(64,64))\r\n",
        "test_image = image.img_to_array()\r\n",
        "test_image = np.expand_dims(test_image, axis = 0)\r\n",
        "result = cnn.predict(test_image)\r\n",
        "training_set.class_indices\r\n",
        "if result[0][0] > 0.5:\r\n",
        "  prediction = 'dog'\r\n",
        "else:\r\n",
        "  prediction = 'cat'"
      ],
      "execution_count": null,
      "outputs": []
    },
    {
      "cell_type": "code",
      "metadata": {
        "id": "ilPemghwUVlk"
      },
      "source": [
        "print(prediction)"
      ],
      "execution_count": null,
      "outputs": []
    }
  ]
}